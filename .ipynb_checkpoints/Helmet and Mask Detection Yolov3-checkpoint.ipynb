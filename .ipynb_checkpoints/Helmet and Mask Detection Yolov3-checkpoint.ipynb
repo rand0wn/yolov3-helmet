{
 "cells": [
  {
   "cell_type": "markdown",
   "metadata": {},
   "source": [
    "# Helment and Mask Detection\n",
    "\n",
    "I have used Yolov3 as an object detection model to train 4 classes - \n",
    "\n",
    "head,\n",
    "helmet and mask,\n",
    "mask,\n",
    "helmet\n",
    "\n",
    "I have chosen yolo, because it is quite fast on par with mobilenet-SSD, gives a median accuracy with less data and training time."
   ]
  },
  {
   "cell_type": "code",
   "execution_count": 1,
   "metadata": {},
   "outputs": [],
   "source": [
    "# Tweak this options for data, training, testing, infer\n",
    "\n",
    "data_prep_flag = False\n",
    "data_train_flag = False\n",
    "data_test_flag = True\n",
    "data_infer_flag = False"
   ]
  },
  {
   "cell_type": "markdown",
   "metadata": {},
   "source": [
    "## Data Prep\n",
    "\n",
    "Used annotation.xml file to prepare training data in yolo format, contains text files in labels and images in images folder."
   ]
  },
  {
   "cell_type": "code",
   "execution_count": 2,
   "metadata": {},
   "outputs": [],
   "source": [
    "# Prep of Training Data Format from Annotation for yolo\n",
    "\n",
    "if data_prep_flag:\n",
    "\n",
    "    import xml.etree.ElementTree as et\n",
    "    import shutil \n",
    "\n",
    "    xtree = et.parse(\"data/annotations.xml\")\n",
    "    xroot = xtree.getroot()\n",
    "\n",
    "    def convert(size, box):\n",
    "        dw = 1./(size[0])\n",
    "        dh = 1./(size[1])\n",
    "        x = (box[0] + box[1])/2.0 - 1\n",
    "        y = (box[2] + box[3])/2.0 - 1\n",
    "        w = box[1] - box[0]\n",
    "        h = box[3] - box[2]\n",
    "        x = x*dw\n",
    "        w = w*dw\n",
    "        y = y*dh\n",
    "        h = h*dh\n",
    "        return x,y,w,h\n",
    "\n",
    "    for node in xroot.iter('image'):\n",
    "        rows = []\n",
    "        id_ = node.attrib.get(\"id\")\n",
    "        name = node.attrib.get(\"name\")\n",
    "        width = node.attrib.get(\"width\")\n",
    "        height = node.attrib.get(\"height\")\n",
    "\n",
    "        root1 = et.Element('root')\n",
    "        root1 = node\n",
    "\n",
    "        head_list = list()\n",
    "        for supply in root1.iter('box'):\n",
    "            label = supply.attrib.get(\"label\")\n",
    "            if label == \"head\":\n",
    "                occluded = supply.attrib.get(\"occluded\")\n",
    "                xtl = supply.attrib.get(\"xtl\")\n",
    "                ytl = supply.attrib.get(\"ytl\")\n",
    "                xbr = supply.attrib.get(\"xbr\")\n",
    "                ybr = supply.attrib.get(\"ybr\")\n",
    "                #print(convert([float(width), float(height)], [float(xtl), float(xbr), float(ytl), float(ybr)]))         \n",
    "\n",
    "                x, y, w, h = convert([float(width), float(height)], [float(xtl), float(xbr), float(ytl), float(ybr)])\n",
    "\n",
    "                attr_dict = {}\n",
    "\n",
    "                root2 = et.Element('root')\n",
    "                root2 = supply\n",
    "                for at in root2.iter('attribute'):\n",
    "                    attr_dict[str(at.attrib.get(\"name\"))] = at.text\n",
    "\n",
    "                if attr_dict['mask'] == 'yes' and attr_dict['has_safety_helmet'] == 'yes':\n",
    "                    rows.append((1, x, y, w, h))\n",
    "                elif attr_dict['mask'] == 'yes':\n",
    "                    rows.append((2, x, y, w, h))\n",
    "                elif attr_dict['has_safety_helmet'] == 'yes':\n",
    "                    rows.append((3, x, y, w, h))\n",
    "                else:\n",
    "                    rows.append((0, x, y, w, h))\n",
    "\n",
    "            #print(attr_dict)\n",
    "        #print(rows)\n",
    "        #print(id_)\n",
    "\n",
    "        with open(\"data/labels/\"+str(id_)+\".txt\", \"w\") as text_file:\n",
    "            for i in rows:\n",
    "                j = str(i).replace(',', '')\n",
    "                text_file.write(j[1:len(j)-1]+'\\n')\n",
    "\n",
    "        shutil.copyfile(\"data/images_all/\"+id_+\".jpg\", \"data/images/\"+id_+\".jpg\")\n",
    "    #print(rows)"
   ]
  },
  {
   "cell_type": "markdown",
   "metadata": {},
   "source": [
    "## Train-Test Set\n",
    "\n",
    "Created train and test set files for training and validation accuracy, used 20% for test set."
   ]
  },
  {
   "cell_type": "code",
   "execution_count": 3,
   "metadata": {},
   "outputs": [],
   "source": [
    "# Data Parameters\n",
    "\n",
    "if data_prep_flag:\n",
    "\n",
    "    # Train_Test Data Prep\n",
    "    import glob\n",
    "    import os\n",
    "\n",
    "    current_dir = \"data/images\"\n",
    "    # Percentage of images to be used for the valid set\n",
    "    percentage_test = 20\n",
    "    # Create train.txt and valid.txt\n",
    "    file_train = open('data/train.txt', 'w')\n",
    "    file_test = open('data/test.txt', 'w')\n",
    "    # Populate train.txt and valid.txt\n",
    "    counter = 1\n",
    "    index_test = round(100 / percentage_test)\n",
    "    for file in glob.iglob(os.path.join(current_dir, '*.jpg')):\n",
    "        title, ext = os.path.splitext(os.path.basename(file))\n",
    "        if counter == index_test:\n",
    "            counter = 1\n",
    "            file_test.write(current_dir +\"/\" +title + '.jpg' + \"\\n\")\n",
    "        else:\n",
    "            file_train.write(current_dir +\"/\" +title + '.jpg' + \"\\n\")\n",
    "        counter = counter + 1\n"
   ]
  },
  {
   "cell_type": "markdown",
   "metadata": {},
   "source": [
    "## Training the Model\n",
    "\n",
    "Used yolov3 tiny arch for reduced training time, used a pre-trained model for initializing weights\n",
    "\n",
    "Have used darknet repo for yolo: https://github.com/AlexeyAB/darknet"
   ]
  },
  {
   "cell_type": "code",
   "execution_count": 4,
   "metadata": {
    "scrolled": true
   },
   "outputs": [],
   "source": [
    "# Training Model using Darknet Yolov3 repo\n",
    "\n",
    "if data_train_flag:\n",
    "    \n",
    "    import os\n",
    "    cmd = './darknet detector train data/detector.data data/yolov3-helmet.cfg data/darknet53.conv.74'\n",
    "    so = os.popen(cmd).read()\n",
    "    print(so)"
   ]
  },
  {
   "cell_type": "markdown",
   "metadata": {},
   "source": [
    "## Testing the trained Model on Test Set\n",
    "\n",
    "I will be generating data to test based on our test set on the model,\n",
    "\n",
    "For metrics I have used: https://github.com/Cartucho/mAP"
   ]
  },
  {
   "cell_type": "code",
   "execution_count": 5,
   "metadata": {},
   "outputs": [
    {
     "name": "stdout",
     "output_type": "stream",
     "text": [
      "['images/223.jpg', 'images/50.jpg', 'images/150.jpg', 'images/145.jpg', 'images/587.jpg', 'images/231.jpg', 'images/475.jpg', 'images/257.jpg', 'images/242.jpg', 'images/245.jpg', 'images/84.jpg', 'images/339.jpg', 'images/581.jpg', 'images/136.jpg', 'images/199.jpg', 'images/317.jpg', 'images/216.jpg', 'images/280.jpg', 'images/239.jpg', 'images/374.jpg', 'images/219.jpg', 'images/549.jpg', 'images/52.jpg', 'images/324.jpg', 'images/160.jpg', 'images/445.jpg', 'images/452.jpg', 'images/541.jpg', 'images/44.jpg', 'images/328.jpg', 'images/188.jpg', 'images/559.jpg', 'images/303.jpg', 'images/32.jpg', 'images/399.jpg', 'images/453.jpg', 'images/306.jpg', 'images/241.jpg', 'images/157.jpg', 'images/305.jpg', 'images/124.jpg', 'images/441.jpg', 'images/433.jpg', 'images/531.jpg', 'images/284.jpg', 'images/125.jpg', 'images/442.jpg', 'images/464.jpg', 'images/0.jpg', 'images/53.jpg', 'images/41.jpg', 'images/601.jpg', 'images/9.jpg', 'images/264.jpg', 'images/274.jpg', 'images/519.jpg', 'images/233.jpg', 'images/565.jpg', 'images/217.jpg', 'images/122.jpg', 'images/109.jpg', 'images/40.jpg', 'images/405.jpg', 'images/127.jpg', 'images/347.jpg', 'images/341.jpg', 'images/227.jpg', 'images/363.jpg', 'images/502.jpg', 'images/497.jpg', 'images/224.jpg', 'images/168.jpg', 'images/47.jpg', 'images/418.jpg', 'images/458.jpg', 'images/139.jpg', 'images/76.jpg', 'images/230.jpg', 'images/102.jpg', 'images/196.jpg', 'images/521.jpg', 'images/195.jpg', 'images/20.jpg', 'images/246.jpg', 'images/478.jpg', 'images/251.jpg', 'images/605.jpg', 'images/103.jpg', 'images/580.jpg', 'images/536.jpg', 'images/416.jpg', 'images/214.jpg', 'images/437.jpg', 'images/17.jpg', 'images/326.jpg', 'images/34.jpg', 'images/533.jpg', 'images/320.jpg', 'images/389.jpg', 'images/144.jpg', 'images/170.jpg', 'images/307.jpg', 'images/350.jpg', 'images/515.jpg', 'images/550.jpg']\n",
      "total ground-truth files: 105\n",
      "total detection-results files: 85\n",
      "\n",
      "No backup required for /home/abhishek/Downloads/yolov3-helmet/data/input/detection-results\n",
      "total ground-truth backup files: 20\n",
      "total intersected files: 85\n",
      "Intersection completed!\n",
      "\n",
      "8.53% = 0 AP \n",
      "29.75% = 1 AP \n",
      "17.66% = 2 AP \n",
      "33.61% = 3 AP \n",
      "mAP = 22.39%\n",
      "Figure(640x480)\n",
      "\n"
     ]
    }
   ],
   "source": [
    "# Testing Model on Test data generated during training\n",
    "# First Getting Annotations for ground Truth from XML\n",
    "# Second Generating results from the model\n",
    "# Calculating mAP\n",
    "\n",
    "if data_test_flag:\n",
    "    \n",
    "    import xml.etree.ElementTree as et\n",
    "    import cv2\n",
    "    import numpy as np\n",
    "    \n",
    "    # Ground Truth Annotations\n",
    "    xtree = et.parse(\"data/annotations.xml\")\n",
    "    xroot = xtree.getroot()\n",
    "\n",
    "    with open('data/test.txt') as f:\n",
    "        lines = f.read().splitlines()\n",
    "\n",
    "    test_id_list = [i.split('/')[-1].split('.')[0] for i in lines]\n",
    "\n",
    "    for node in xroot.iter('image'):\n",
    "\n",
    "        rows = []\n",
    "        id_ = node.attrib.get(\"id\")\n",
    "\n",
    "        if id_ in test_id_list:\n",
    "            name = node.attrib.get(\"name\")\n",
    "            width = node.attrib.get(\"width\")\n",
    "            height = node.attrib.get(\"height\")\n",
    "\n",
    "            root1 = et.Element('root')\n",
    "            root1 = node\n",
    "\n",
    "            head_list = list()\n",
    "            for supply in root1.iter('box'):\n",
    "                label = supply.attrib.get(\"label\")\n",
    "                if label == \"head\":\n",
    "                    occluded = supply.attrib.get(\"occluded\")\n",
    "                    xtl = float(supply.attrib.get(\"xtl\"))\n",
    "                    ytl = float(supply.attrib.get(\"ytl\"))\n",
    "                    xbr = float(supply.attrib.get(\"xbr\"))\n",
    "                    ybr = float(supply.attrib.get(\"ybr\"))\n",
    "                    attr_dict = {}\n",
    "\n",
    "                    root2 = et.Element('root')\n",
    "                    root2 = supply\n",
    "                    for at in root2.iter('attribute'):\n",
    "                        attr_dict[str(at.attrib.get(\"name\"))] = at.text\n",
    "\n",
    "                    if attr_dict['mask'] == 'yes' and attr_dict['has_safety_helmet'] == 'yes':\n",
    "                        rows.append((1, xtl, ytl, xbr, ybr))\n",
    "                    elif attr_dict['mask'] == 'yes':\n",
    "                        rows.append((2, xtl, ytl, xbr, ybr))\n",
    "                    elif attr_dict['has_safety_helmet'] == 'yes':\n",
    "                        rows.append((3, xtl, ytl, xbr, ybr))\n",
    "                    else:\n",
    "                        rows.append((0, xtl, ytl, xbr, ybr))\n",
    "\n",
    "            with open(\"data/input/ground-truth/\"+str(id_)+\".txt\", \"w\") as text_file:\n",
    "                for i in rows:\n",
    "                    j = str(i).replace(',', '')\n",
    "                    text_file.write(j[1:len(j)-1]+'\\n')\n",
    "    \n",
    "    \n",
    "    \n",
    "    # Generating Test results from the model\n",
    "    with open('data/test.txt') as f:\n",
    "        lines = f.read().splitlines()\n",
    "\n",
    "    image_list = [i.strip(\"data/\") for i in lines]\n",
    "\n",
    "    print(image_list)\n",
    "    \n",
    "    config_file = 'data/yolov3-helmet.cfg'\n",
    "    weights_file = 'backup/yolov3-helmet_20000.weights'\n",
    "    names_file = 'data/data.names'\n",
    "\n",
    "    CONF_THRESH, NMS_THRESH = 0.5, 0.5\n",
    "\n",
    "    # Load the network\n",
    "    net = cv2.dnn.readNetFromDarknet(config_file, weights_file)\n",
    "    net.setPreferableBackend(cv2.dnn.DNN_BACKEND_OPENCV)\n",
    "    net.setPreferableTarget(cv2.dnn.DNN_TARGET_CPU)\n",
    "\n",
    "    # Get the output layer from YOLO\n",
    "    layers = net.getLayerNames()\n",
    "    output_layers = [layers[i[0] - 1] for i in net.getUnconnectedOutLayers()]\n",
    "\n",
    "    # Read and convert the image to blob and perform forward pass to get the bounding boxes with their confidence scores\n",
    "    for i in image_list:\n",
    "        img = cv2.imread('data/'+i)\n",
    "        height, width = img.shape[:2]\n",
    "        #print(height, width)\n",
    "\n",
    "        blob = cv2.dnn.blobFromImage(img, 0.00392, (416, 416), swapRB=True, crop=False)\n",
    "        net.setInput(blob)\n",
    "        layer_outputs = net.forward(output_layers)\n",
    "\n",
    "        class_ids, confidences, b_boxes = [], [], []\n",
    "        for output in layer_outputs:\n",
    "            for detection in output:\n",
    "                scores = detection[5:]\n",
    "                class_id = np.argmax(scores)\n",
    "                confidence = scores[class_id]\n",
    "\n",
    "                if confidence > CONF_THRESH:\n",
    "                    center_x, center_y, w, h = (detection[0:4] * np.array([width, height, width, height])).astype('int')\n",
    "\n",
    "                    x = int(center_x - w / 2)\n",
    "                    y = int(center_y - h / 2)\n",
    "\n",
    "                    b_boxes.append([x, y, int(w), int(h)])\n",
    "                    confidences.append(float(confidence))\n",
    "                    class_ids.append(int(class_id))\n",
    "\n",
    "        # Perform non maximum suppression for the bounding boxes to filter overlapping and low confident bounding boxes\n",
    "        #print(cv2.dnn.NMSBoxes(b_boxes, confidences, CONF_THRESH, NMS_THRESH))\n",
    "        try:\n",
    "            indices = cv2.dnn.NMSBoxes(b_boxes, confidences, CONF_THRESH, NMS_THRESH).flatten().tolist()\n",
    "\n",
    "            # Draw the filtered bounding boxes with their class to the image\n",
    "            with open(names_file, \"r\") as f:\n",
    "                classes = [line.strip() for line in f.readlines()]\n",
    "            colors = np.random.uniform(0, 255, size=(len(classes), 3))\n",
    "\n",
    "            rows = []\n",
    "\n",
    "            for index in sorted(indices):\n",
    "                x, y, w, h = b_boxes[index]\n",
    "                rows.append((class_ids[index], CONF_THRESH, float(x), float(y), float(x + w), float(y + h)))\n",
    "                #print((x, y), (x + w, y + h), class_ids[index])\n",
    "\n",
    "            with open(\"data/input/detection-results/\"+str(i.split('/')[-1].split('.')[0])+\".txt\", \"w\") as text_file:\n",
    "                for i in rows:\n",
    "                    j = str(i).replace(',', '')\n",
    "                    text_file.write(j[1:len(j)-1]+'\\n')\n",
    "        except:\n",
    "            pass\n",
    "    \n",
    "    # Calc mAP\n",
    "    import os\n",
    "    cmd = 'python3 data/scripts/extra/intersect-gt-and-dr.py'\n",
    "    so = os.popen(cmd).read()\n",
    "    print(so)\n",
    "    \n",
    "    cmd = 'python3 data/calc_mAp.py'\n",
    "    so = os.popen(cmd).read()\n",
    "    print(so)"
   ]
  },
  {
   "cell_type": "markdown",
   "metadata": {},
   "source": [
    "## Detection Metrics\n",
    "\n",
    "mAP was introduced in the PASCAL VOC 2012 competition, since then it has been the prime metric of object detection methods,\n",
    "\n",
    "The standard evaluation metric of classification models such as classification accuracy, f1-score holds well when dealing with singular loss functions such as entropy, whereas in object detection methods its always dual loss(classification and detection), so it should take into account both of them.\n",
    "\n",
    "Based on IoU of anchor boxes area under curve is calculated,\n",
    "\n",
    "Some other metrics have also been calculated: Log average miss rate,\n",
    ", Ground Truth by Classes, Detection Results - False Positive and True Positive"
   ]
  },
  {
   "cell_type": "code",
   "execution_count": 6,
   "metadata": {},
   "outputs": [
    {
     "data": {
      "image/png": "[encoded data removed]",
      "text/plain": [
       "<Figure size 432x288 with 1 Axes>"
      ]
     },
     "metadata": {
      "needs_background": "light"
     },
     "output_type": "display_data"
    },
    {
     "data": {
      "image/png": "[encoded data removed]",
      "text/plain": [
       "<Figure size 432x288 with 1 Axes>"
      ]
     },
     "metadata": {
      "needs_background": "light"
     },
     "output_type": "display_data"
    },
    {
     "data": {
      "image/png": "[encoded data removed]",
      "text/plain": [
       "<Figure size 432x288 with 1 Axes>"
      ]
     },
     "metadata": {
      "needs_background": "light"
     },
     "output_type": "display_data"
    },
    {
     "data": {
      "image/png": "[encoded data removed]",
      "text/plain": [
       "<Figure size 432x288 with 1 Axes>"
      ]
     },
     "metadata": {
      "needs_background": "light"
     },
     "output_type": "display_data"
    }
   ],
   "source": [
    "# Test Results \n",
    "\n",
    "# 4 Metric Plots\n",
    "# Log average miss rate\n",
    "# mAP\n",
    "# Ground Truth by Classes\n",
    "# Detection Results - False Positive and True Positive\n",
    "\n",
    "import numpy as np\n",
    "import cv2\n",
    "import matplotlib.pyplot as plt\n",
    "%matplotlib inline\n",
    "\n",
    "im = ['data/output/lamr.png', 'data/output/mAP.png', 'data/output/ground-truth-info.png', 'data/output/detection-results-info.png']\n",
    "\n",
    "for i in im:\n",
    "    ik = cv2.imread(i)\n",
    "\n",
    "    plt.imshow(ik)\n",
    "    plt.show()"
   ]
  },
  {
   "cell_type": "code",
   "execution_count": 7,
   "metadata": {},
   "outputs": [],
   "source": [
    "# Inference on a single image using model\n",
    "\n",
    "if data_infer_flag:\n",
    "    \n",
    "    import subprocess\n",
    "    image_path = \"\"\n",
    "    subprocess.Popen(\"python3 inference.py --image \" + image_path + \" --config yolov3-helmet.cfg --weights backup/yolov3-helmet_20000.weights --names  data/data.names \")"
   ]
  },
  {
   "cell_type": "code",
   "execution_count": null,
   "metadata": {},
   "outputs": [],
   "source": []
  },
  {
   "cell_type": "code",
   "execution_count": null,
   "metadata": {},
   "outputs": [],
   "source": []
  }
 ],
 "metadata": {
  "kernelspec": {
   "display_name": "Python 3",
   "language": "python",
   "name": "python3"
  },
  "language_info": {
   "codemirror_mode": {
    "name": "ipython",
    "version": 3
   },
   "file_extension": ".py",
   "mimetype": "text/x-python",
   "name": "python",
   "nbconvert_exporter": "python",
   "pygments_lexer": "ipython3",
   "version": "3.6.9"
  }
 },
 "nbformat": 4,
 "nbformat_minor": 2
}
